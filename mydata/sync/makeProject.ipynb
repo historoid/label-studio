{
 "cells": [
  {
   "cell_type": "code",
   "execution_count": 1,
   "id": "f3bc9a2f-5f97-4263-a9c0-06c9c0e06bd2",
   "metadata": {},
   "outputs": [],
   "source": [
    "import os\n",
    "import re\n",
    "import shutil\n",
    "import requests\n",
    "from dotenv import load_dotenv\n",
    "from label_studio_sdk.client import LabelStudio"
   ]
  },
  {
   "cell_type": "code",
   "execution_count": 2,
   "id": "98e5bd50-f709-40c1-889e-d963a6c86551",
   "metadata": {},
   "outputs": [],
   "source": [
    "# 設定値\n",
    "load_dotenv('./config.env')\n",
    "\n",
    "server_ip = os.getenv('SERVER_IP') \n",
    "backend_ip = os.getenv('BACKEND_IP')\n",
    "api_key = os.getenv('API_KEY')\n",
    "ui_config_path = os.getenv('UI_CONFIG_PATH')\n",
    "data_dir = os.getenv('DATA_DIR')"
   ]
  },
  {
   "cell_type": "code",
   "execution_count": 3,
   "id": "c3b30a67-9eca-4933-b456-18bdc28bb7f3",
   "metadata": {},
   "outputs": [],
   "source": [
    "def create_projects(**kwargs):\n",
    "\n",
    "    # default\n",
    "    SERVER_IP = kwargs.get('SERVER_IP', server_ip)\n",
    "    BACKEND_IP = kwargs.get('BACKEND_IP', backend_ip)\n",
    "    API_KEY = kwargs.get('API_KEY', api_key)\n",
    "    UI_CONFIG_PATH = kwargs.get('UI_CONFIG_PATH', ui_config_path)\n",
    "    DATA_DIR = kwargs.get('DATA_DIR', data_dir)\n",
    "    SOURCE_DIR = os.path.join(DATA_DIR, '00_UNIMPORTED')\n",
    "    DIST_DIR = os.path.join(DATA_DIR, '01_IMPORTED')\n",
    "    image_extensions = ('.jpeg', '.jpg', '.png', '.gif')\n",
    "\n",
    "    # initialize client\n",
    "    client = LabelStudio(base_url=SERVER_IP, api_key=API_KEY)\n",
    "\n",
    "    # 患者フォルダのフォルダ名のパターン\n",
    "    pattern = re.compile(r'^[fs][0-9a-f]{8}-[0-9a-f]{4}-[0-9a-f]{4}-[0-9a-f]{4}-[0-9a-f]{12}$')\n",
    "\n",
    "    # IMPORTED ディレクトリの有無\n",
    "    if not os.path.exists(DIST_DIR):\n",
    "        os.makedirs(DIST_DIR)\n",
    "\n",
    "    # DATA_DIR にある患者フォルダのみを逐次処理\n",
    "    for dirname in os.listdir(DATA_DIR):\n",
    "        dir_path = os.path.join(DATA_DIR, dirname)\n",
    "        if os.path.isdir(dir_path) and pattern.match(dirname):\n",
    "            print(f'\\n--- 処理中のフォルダ: {dirname} ---')\n",
    "\n",
    "            # 画像ファイルの選択\n",
    "            image_files = [os.path.join(dir_path, item) for item in os.listdir(dir_path)]\n",
    "            image_files = [item for item in image_files if os.path.isfile(item) and item.lower().endswith(image_extensions)]\n",
    "            total_files = len(image_files)\n",
    "\n",
    "            # 画像があるときのみ、プロジェクトを新規作成\n",
    "            if total_files != 0:\n",
    "                \n",
    "                # プロジェクト作成\n",
    "                try:\n",
    "                    with open(UI_CONFIG_PATH, 'r', encoding='utf-8') as file:\n",
    "                        label_config = file.read()\n",
    "                    project = client.projects.create(title=f\"{dirname}\", label_config=label_config)\n",
    "                    backend = client.ml.create(\n",
    "                        url=BACKEND_IP,\n",
    "                        project=project.id,\n",
    "                        is_interactive=True,\n",
    "                        title='SAM',\n",
    "                        # auth_method='BASIC_AUTH',\n",
    "                        # basic_auth_user='oudx',\n",
    "                        # basic_auth_pass='f302'\n",
    "                    )\n",
    "\n",
    "                    # 画像ファイルのアップロード\n",
    "                    for i, image in enumerate(image_files):\n",
    "                        with open(image, 'rb') as img:\n",
    "                            response = requests.post(\n",
    "                                f'{SERVER_IP}/api/projects/{project.id}/import',\n",
    "                                headers={'Authorization': f'Token {API_KEY}'},\n",
    "                                files={'file': img}\n",
    "                            )\n",
    "                        # プログレスバーの設定\n",
    "                        progress = (i + 1) / total_files * 100\n",
    "                        progress_bar = '█' * int(progress / 10) + '▏' * (10 - int(progress / 10))\n",
    "                        print(f'\\rアップロード中: [{progress_bar}] {progress:.2f}%', end='')\n",
    "                        if response.status_code == 201:\n",
    "                            print(f'  ファイルがアップロードされました：{os.path.basename(image)}')\n",
    "                        else:\n",
    "                            print(f'  ファイルアップロードに失敗しました：{os.path.basename(image)}, {response.status_code}, {response.text}')\n",
    "                \n",
    "                    # プロジェクト化が完了したフォルダをIMPORTEDフォルダに移動\n",
    "                    shutil.move(dir_path, os.path.join(DIST_DIR, dirname))\n",
    "                    print(f'フォルダを移動しました：{dirname}')\n",
    "            \n",
    "                except Exception as e:\n",
    "                    print(f'プロジェクトの作成またはフォルダの移動に失敗しました：{dirname}, エラー：{str(e)}')\n",
    "            \n",
    "            else:\n",
    "                shutil.move(dir_path, os.path.join(DIST_DIR, dirname))\n",
    "                print(f'このフォルダには画像が含まれていません。処理済みとして移動します。：{dirname}')\n"
   ]
  },
  {
   "cell_type": "code",
   "execution_count": 4,
   "id": "a03035cb-0f86-4704-9fda-d70c75f21aa2",
   "metadata": {},
   "outputs": [
    {
     "name": "stdout",
     "output_type": "stream",
     "text": [
      "\n",
      "--- 処理中のフォルダ: seadac82b-1ea9-4328-b5f4-efeaa8777e99 ---\n",
      "アップロード中: [█▏▏▏▏▏▏▏▏▏] 11.11%  ファイルがアップロードされました：seadac82b-20200827-edfd9472.jpeg\n",
      "アップロード中: [██▏▏▏▏▏▏▏▏] 22.22%  ファイルがアップロードされました：seadac82b-20200827-a859d19a.jpeg\n",
      "アップロード中: [███▏▏▏▏▏▏▏] 33.33%  ファイルがアップロードされました：seadac82b-20200827-7775758f.jpeg\n",
      "アップロード中: [████▏▏▏▏▏▏] 44.44%  ファイルがアップロードされました：seadac82b-20200827-0b7160b0.jpeg\n",
      "アップロード中: [█████▏▏▏▏▏] 55.56%  ファイルがアップロードされました：seadac82b-20200928-6a04c577.jpeg\n",
      "アップロード中: [██████▏▏▏▏] 66.67%  ファイルがアップロードされました：seadac82b-20200827-7c7d8844.jpeg\n",
      "アップロード中: [███████▏▏▏] 77.78%  ファイルがアップロードされました：seadac82b-20200827-703d8bd8.jpeg\n",
      "アップロード中: [████████▏▏] 88.89%  ファイルがアップロードされました：seadac82b-20200827-e43b37ec.jpeg\n",
      "アップロード中: [██████████] 100.00%  ファイルがアップロードされました：seadac82b-20200827-f6f68dca.jpeg\n",
      "\n",
      "フォルダを移動しました：seadac82b-1ea9-4328-b5f4-efeaa8777e99\n",
      "\n",
      "--- 処理中のフォルダ: secfa3e56-bf0a-4e7a-b73f-28a6c23edbc6 ---\n",
      "アップロード中: [█████▏▏▏▏▏] 50.00%  ファイルがアップロードされました：secfa3e56-20240530-65e47c24.jpeg\n",
      "アップロード中: [██████████] 100.00%  ファイルがアップロードされました：secfa3e56-20240530-d3cc12f6.jpeg\n",
      "\n",
      "フォルダを移動しました：secfa3e56-bf0a-4e7a-b73f-28a6c23edbc6\n"
     ]
    }
   ],
   "source": [
    "create_projects()"
   ]
  },
  {
   "cell_type": "code",
   "execution_count": null,
   "id": "44a33121-b843-4680-bc88-16d24f1e534d",
   "metadata": {},
   "outputs": [],
   "source": []
  }
 ],
 "metadata": {
  "kernelspec": {
   "display_name": "Python 3 (ipykernel)",
   "language": "python",
   "name": "python3"
  },
  "language_info": {
   "codemirror_mode": {
    "name": "ipython",
    "version": 3
   },
   "file_extension": ".py",
   "mimetype": "text/x-python",
   "name": "python",
   "nbconvert_exporter": "python",
   "pygments_lexer": "ipython3",
   "version": "3.11.6"
  }
 },
 "nbformat": 4,
 "nbformat_minor": 5
}
